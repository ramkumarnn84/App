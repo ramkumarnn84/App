{
  "metadata": {
    "kernelspec": {
      "display_name": "Python 3",
      "language": "python",
      "name": "python3"
    },
    "language_info": {
      "name": "python",
      "version": "3.6.6",
      "mimetype": "text/x-python",
      "codemirror_mode": {
        "name": "ipython",
        "version": 3
      },
      "pygments_lexer": "ipython3",
      "nbconvert_exporter": "python",
      "file_extension": ".py"
    },
    "colab": {
      "provenance": [],
      "include_colab_link": true
    }
  },
  "nbformat_minor": 0,
  "nbformat": 4,
  "cells": [
    {
      "cell_type": "markdown",
      "metadata": {
        "id": "view-in-github",
        "colab_type": "text"
      },
      "source": [
        "<a href=\"https://colab.research.google.com/github/ramkumarnn84/App/blob/master/time_series_analysis_using_lstm_keras.ipynb\" target=\"_parent\"><img src=\"https://colab.research.google.com/assets/colab-badge.svg\" alt=\"Open In Colab\"/></a>"
      ]
    },
    {
      "cell_type": "markdown",
      "source": [
        "The type of Neural Network designed to handle sequence dependence is called recurrent neural networks(RNN). \n",
        "\n",
        "The Long Short-Term Memory network or LSTM network is a type of recurrent neural network used in deep learning because very large architectures can be successfully trained"
      ],
      "metadata": {
        "_uuid": "3d7c6a3bd655da50b56413fc3e2e10c2531ef842",
        "id": "VKeceVf8s5eg"
      }
    },
    {
      "cell_type": "markdown",
      "source": [
        "# New Section"
      ],
      "metadata": {
        "id": "yeMxKLibs7St"
      }
    },
    {
      "cell_type": "code",
      "source": [
        "# This Python 3 environment comes with many helpful analytics libraries installed\n",
        "# It is defined by the kaggle/python docker image: https://github.com/kaggle/docker-python\n",
        "# For example, here's several helpful packages to load in \n",
        "\n",
        "import numpy as np # linear algebra\n",
        "import pandas as pd # data processing, CSV file I/O (e.g. pd.read_csv)\n",
        "import matplotlib.pyplot as plt\n",
        "%matplotlib inline\n",
        "from pandas import datetime\n",
        "import math, time\n",
        "import itertools\n",
        "from sklearn import preprocessing\n",
        "import datetime\n",
        "from operator import itemgetter\n",
        "from sklearn.preprocessing import MinMaxScaler\n",
        "from sklearn.metrics import mean_squared_error\n",
        "from math import sqrt\n",
        "from keras.models import Sequential\n",
        "from keras.layers.core import Dense, Dropout, Activation\n",
        "from keras.layers import LSTM\n",
        "from keras.models import load_model\n",
        "import keras\n",
        "import h5py\n",
        "import requests\n",
        "import os\n",
        "\n",
        "# Input data files are available in the \"../input/\" directory.\n",
        "# For example, running this (by clicking run or pressing Shift+Enter) will list the files in the input directory\n",
        "\n",
        "\n",
        "\n",
        "# Any results you write to the current directory are saved as output."
      ],
      "metadata": {
        "_uuid": "8f2839f25d086af736a60e9eeb907d3b93b6e0e5",
        "_cell_guid": "b1076dfc-b9ad-4769-8c92-a6c4dae69d19",
        "trusted": true,
        "colab": {
          "base_uri": "https://localhost:8080/"
        },
        "id": "rw6_1YVTs5ek",
        "outputId": "02d459c8-7053-40fc-a0b8-93c176ebd143"
      },
      "execution_count": 3,
      "outputs": [
        {
          "output_type": "stream",
          "name": "stderr",
          "text": [
            "/usr/local/lib/python3.7/dist-packages/ipykernel_launcher.py:9: FutureWarning: The pandas.datetime class is deprecated and will be removed from pandas in a future version. Import from datetime module instead.\n",
            "  if __name__ == '__main__':\n"
          ]
        }
      ]
    },
    {
      "cell_type": "code",
      "source": [
        "data_df =  pd.read_csv(\"prices-split-adjusted.csv\", index_col = 0)\n",
        "data_df.head()"
      ],
      "metadata": {
        "_cell_guid": "79c7e3d0-c299-4dcb-8224-4455121ee9b0",
        "_uuid": "d629ff2d2480ee46fbb7e2d37f6b5fab8052498a",
        "trusted": true,
        "colab": {
          "base_uri": "https://localhost:8080/",
          "height": 237
        },
        "id": "LkgZEGV-s5em",
        "outputId": "c9a47208-c2e5-4520-c483-549b82a5c0fa"
      },
      "execution_count": 5,
      "outputs": [
        {
          "output_type": "execute_result",
          "data": {
            "text/plain": [
              "           symbol        open       close         low        high     volume\n",
              "date                                                                        \n",
              "2016-01-05   WLTW  123.430000  125.839996  122.309998  126.250000  2163600.0\n",
              "2016-01-06   WLTW  125.239998  119.980003  119.940002  125.540001  2386400.0\n",
              "2016-01-07   WLTW  116.379997  114.949997  114.930000  119.739998  2489500.0\n",
              "2016-01-08   WLTW  115.480003  116.620003  113.500000  117.440002  2006300.0\n",
              "2016-01-11   WLTW  117.010002  114.970001  114.089996  117.330002  1408600.0"
            ],
            "text/html": [
              "\n",
              "  <div id=\"df-1f2c48c5-6a5d-43ac-8188-2f7b22597463\">\n",
              "    <div class=\"colab-df-container\">\n",
              "      <div>\n",
              "<style scoped>\n",
              "    .dataframe tbody tr th:only-of-type {\n",
              "        vertical-align: middle;\n",
              "    }\n",
              "\n",
              "    .dataframe tbody tr th {\n",
              "        vertical-align: top;\n",
              "    }\n",
              "\n",
              "    .dataframe thead th {\n",
              "        text-align: right;\n",
              "    }\n",
              "</style>\n",
              "<table border=\"1\" class=\"dataframe\">\n",
              "  <thead>\n",
              "    <tr style=\"text-align: right;\">\n",
              "      <th></th>\n",
              "      <th>symbol</th>\n",
              "      <th>open</th>\n",
              "      <th>close</th>\n",
              "      <th>low</th>\n",
              "      <th>high</th>\n",
              "      <th>volume</th>\n",
              "    </tr>\n",
              "    <tr>\n",
              "      <th>date</th>\n",
              "      <th></th>\n",
              "      <th></th>\n",
              "      <th></th>\n",
              "      <th></th>\n",
              "      <th></th>\n",
              "      <th></th>\n",
              "    </tr>\n",
              "  </thead>\n",
              "  <tbody>\n",
              "    <tr>\n",
              "      <th>2016-01-05</th>\n",
              "      <td>WLTW</td>\n",
              "      <td>123.430000</td>\n",
              "      <td>125.839996</td>\n",
              "      <td>122.309998</td>\n",
              "      <td>126.250000</td>\n",
              "      <td>2163600.0</td>\n",
              "    </tr>\n",
              "    <tr>\n",
              "      <th>2016-01-06</th>\n",
              "      <td>WLTW</td>\n",
              "      <td>125.239998</td>\n",
              "      <td>119.980003</td>\n",
              "      <td>119.940002</td>\n",
              "      <td>125.540001</td>\n",
              "      <td>2386400.0</td>\n",
              "    </tr>\n",
              "    <tr>\n",
              "      <th>2016-01-07</th>\n",
              "      <td>WLTW</td>\n",
              "      <td>116.379997</td>\n",
              "      <td>114.949997</td>\n",
              "      <td>114.930000</td>\n",
              "      <td>119.739998</td>\n",
              "      <td>2489500.0</td>\n",
              "    </tr>\n",
              "    <tr>\n",
              "      <th>2016-01-08</th>\n",
              "      <td>WLTW</td>\n",
              "      <td>115.480003</td>\n",
              "      <td>116.620003</td>\n",
              "      <td>113.500000</td>\n",
              "      <td>117.440002</td>\n",
              "      <td>2006300.0</td>\n",
              "    </tr>\n",
              "    <tr>\n",
              "      <th>2016-01-11</th>\n",
              "      <td>WLTW</td>\n",
              "      <td>117.010002</td>\n",
              "      <td>114.970001</td>\n",
              "      <td>114.089996</td>\n",
              "      <td>117.330002</td>\n",
              "      <td>1408600.0</td>\n",
              "    </tr>\n",
              "  </tbody>\n",
              "</table>\n",
              "</div>\n",
              "      <button class=\"colab-df-convert\" onclick=\"convertToInteractive('df-1f2c48c5-6a5d-43ac-8188-2f7b22597463')\"\n",
              "              title=\"Convert this dataframe to an interactive table.\"\n",
              "              style=\"display:none;\">\n",
              "        \n",
              "  <svg xmlns=\"http://www.w3.org/2000/svg\" height=\"24px\"viewBox=\"0 0 24 24\"\n",
              "       width=\"24px\">\n",
              "    <path d=\"M0 0h24v24H0V0z\" fill=\"none\"/>\n",
              "    <path d=\"M18.56 5.44l.94 2.06.94-2.06 2.06-.94-2.06-.94-.94-2.06-.94 2.06-2.06.94zm-11 1L8.5 8.5l.94-2.06 2.06-.94-2.06-.94L8.5 2.5l-.94 2.06-2.06.94zm10 10l.94 2.06.94-2.06 2.06-.94-2.06-.94-.94-2.06-.94 2.06-2.06.94z\"/><path d=\"M17.41 7.96l-1.37-1.37c-.4-.4-.92-.59-1.43-.59-.52 0-1.04.2-1.43.59L10.3 9.45l-7.72 7.72c-.78.78-.78 2.05 0 2.83L4 21.41c.39.39.9.59 1.41.59.51 0 1.02-.2 1.41-.59l7.78-7.78 2.81-2.81c.8-.78.8-2.07 0-2.86zM5.41 20L4 18.59l7.72-7.72 1.47 1.35L5.41 20z\"/>\n",
              "  </svg>\n",
              "      </button>\n",
              "      \n",
              "  <style>\n",
              "    .colab-df-container {\n",
              "      display:flex;\n",
              "      flex-wrap:wrap;\n",
              "      gap: 12px;\n",
              "    }\n",
              "\n",
              "    .colab-df-convert {\n",
              "      background-color: #E8F0FE;\n",
              "      border: none;\n",
              "      border-radius: 50%;\n",
              "      cursor: pointer;\n",
              "      display: none;\n",
              "      fill: #1967D2;\n",
              "      height: 32px;\n",
              "      padding: 0 0 0 0;\n",
              "      width: 32px;\n",
              "    }\n",
              "\n",
              "    .colab-df-convert:hover {\n",
              "      background-color: #E2EBFA;\n",
              "      box-shadow: 0px 1px 2px rgba(60, 64, 67, 0.3), 0px 1px 3px 1px rgba(60, 64, 67, 0.15);\n",
              "      fill: #174EA6;\n",
              "    }\n",
              "\n",
              "    [theme=dark] .colab-df-convert {\n",
              "      background-color: #3B4455;\n",
              "      fill: #D2E3FC;\n",
              "    }\n",
              "\n",
              "    [theme=dark] .colab-df-convert:hover {\n",
              "      background-color: #434B5C;\n",
              "      box-shadow: 0px 1px 3px 1px rgba(0, 0, 0, 0.15);\n",
              "      filter: drop-shadow(0px 1px 2px rgba(0, 0, 0, 0.3));\n",
              "      fill: #FFFFFF;\n",
              "    }\n",
              "  </style>\n",
              "\n",
              "      <script>\n",
              "        const buttonEl =\n",
              "          document.querySelector('#df-1f2c48c5-6a5d-43ac-8188-2f7b22597463 button.colab-df-convert');\n",
              "        buttonEl.style.display =\n",
              "          google.colab.kernel.accessAllowed ? 'block' : 'none';\n",
              "\n",
              "        async function convertToInteractive(key) {\n",
              "          const element = document.querySelector('#df-1f2c48c5-6a5d-43ac-8188-2f7b22597463');\n",
              "          const dataTable =\n",
              "            await google.colab.kernel.invokeFunction('convertToInteractive',\n",
              "                                                     [key], {});\n",
              "          if (!dataTable) return;\n",
              "\n",
              "          const docLinkHtml = 'Like what you see? Visit the ' +\n",
              "            '<a target=\"_blank\" href=https://colab.research.google.com/notebooks/data_table.ipynb>data table notebook</a>'\n",
              "            + ' to learn more about interactive tables.';\n",
              "          element.innerHTML = '';\n",
              "          dataTable['output_type'] = 'display_data';\n",
              "          await google.colab.output.renderOutput(dataTable, element);\n",
              "          const docLink = document.createElement('div');\n",
              "          docLink.innerHTML = docLinkHtml;\n",
              "          element.appendChild(docLink);\n",
              "        }\n",
              "      </script>\n",
              "    </div>\n",
              "  </div>\n",
              "  "
            ]
          },
          "metadata": {},
          "execution_count": 5
        }
      ]
    },
    {
      "cell_type": "code",
      "source": [
        "df2 = pd.read_csv(\"fundamentals.csv\")\n",
        "df2.head()"
      ],
      "metadata": {
        "_uuid": "9584f8ed27c94867f5c4a1a36f554c35770717bf",
        "trusted": true,
        "colab": {
          "base_uri": "https://localhost:8080/",
          "height": 421
        },
        "id": "XQLgIu69s5em",
        "outputId": "5e95f848-30f0-42bd-d69c-444d0240b78e"
      },
      "execution_count": 6,
      "outputs": [
        {
          "output_type": "execute_result",
          "data": {
            "text/plain": [
              "   Unnamed: 0 Ticker Symbol Period Ending  Accounts Payable  \\\n",
              "0           0           AAL    2012-12-31      3.068000e+09   \n",
              "1           1           AAL    2013-12-31      4.975000e+09   \n",
              "2           2           AAL    2014-12-31      4.668000e+09   \n",
              "3           3           AAL    2015-12-31      5.102000e+09   \n",
              "4           4           AAP    2012-12-29      2.409453e+09   \n",
              "\n",
              "   Accounts Receivable  Add'l income/expense items  After Tax ROE  \\\n",
              "0         -222000000.0               -1.961000e+09           23.0   \n",
              "1          -93000000.0               -2.723000e+09           67.0   \n",
              "2         -160000000.0               -1.500000e+08          143.0   \n",
              "3          352000000.0               -7.080000e+08          135.0   \n",
              "4          -89482000.0                6.000000e+05           32.0   \n",
              "\n",
              "   Capital Expenditures  Capital Surplus  Cash Ratio  ...  \\\n",
              "0         -1.888000e+09     4.695000e+09        53.0  ...   \n",
              "1         -3.114000e+09     1.059200e+10        75.0  ...   \n",
              "2         -5.311000e+09     1.513500e+10        60.0  ...   \n",
              "3         -6.151000e+09     1.159100e+10        51.0  ...   \n",
              "4         -2.711820e+08     5.202150e+08        23.0  ...   \n",
              "\n",
              "   Total Current Assets  Total Current Liabilities  Total Equity  \\\n",
              "0          7.072000e+09               9.011000e+09 -7.987000e+09   \n",
              "1          1.432300e+10               1.380600e+10 -2.731000e+09   \n",
              "2          1.175000e+10               1.340400e+10  2.021000e+09   \n",
              "3          9.985000e+09               1.360500e+10  5.635000e+09   \n",
              "4          3.184200e+09               2.559638e+09  1.210694e+09   \n",
              "\n",
              "   Total Liabilities  Total Liabilities & Equity  Total Revenue  \\\n",
              "0       2.489100e+10                1.690400e+10   2.485500e+10   \n",
              "1       4.500900e+10                4.227800e+10   2.674300e+10   \n",
              "2       4.120400e+10                4.322500e+10   4.265000e+10   \n",
              "3       4.278000e+10                4.841500e+10   4.099000e+10   \n",
              "4       3.403120e+09                4.613814e+09   6.205003e+09   \n",
              "\n",
              "   Treasury Stock  For Year  Earnings Per Share  Estimated Shares Outstanding  \n",
              "0    -367000000.0    2012.0               -5.60                  3.350000e+08  \n",
              "1             0.0    2013.0              -11.25                  1.630222e+08  \n",
              "2             0.0    2014.0                4.02                  7.169154e+08  \n",
              "3             0.0    2015.0               11.39                  6.681299e+08  \n",
              "4     -27095000.0    2012.0                5.29                  7.328355e+07  \n",
              "\n",
              "[5 rows x 79 columns]"
            ],
            "text/html": [
              "\n",
              "  <div id=\"df-18e58192-e097-475b-8d62-082371544c7f\">\n",
              "    <div class=\"colab-df-container\">\n",
              "      <div>\n",
              "<style scoped>\n",
              "    .dataframe tbody tr th:only-of-type {\n",
              "        vertical-align: middle;\n",
              "    }\n",
              "\n",
              "    .dataframe tbody tr th {\n",
              "        vertical-align: top;\n",
              "    }\n",
              "\n",
              "    .dataframe thead th {\n",
              "        text-align: right;\n",
              "    }\n",
              "</style>\n",
              "<table border=\"1\" class=\"dataframe\">\n",
              "  <thead>\n",
              "    <tr style=\"text-align: right;\">\n",
              "      <th></th>\n",
              "      <th>Unnamed: 0</th>\n",
              "      <th>Ticker Symbol</th>\n",
              "      <th>Period Ending</th>\n",
              "      <th>Accounts Payable</th>\n",
              "      <th>Accounts Receivable</th>\n",
              "      <th>Add'l income/expense items</th>\n",
              "      <th>After Tax ROE</th>\n",
              "      <th>Capital Expenditures</th>\n",
              "      <th>Capital Surplus</th>\n",
              "      <th>Cash Ratio</th>\n",
              "      <th>...</th>\n",
              "      <th>Total Current Assets</th>\n",
              "      <th>Total Current Liabilities</th>\n",
              "      <th>Total Equity</th>\n",
              "      <th>Total Liabilities</th>\n",
              "      <th>Total Liabilities &amp; Equity</th>\n",
              "      <th>Total Revenue</th>\n",
              "      <th>Treasury Stock</th>\n",
              "      <th>For Year</th>\n",
              "      <th>Earnings Per Share</th>\n",
              "      <th>Estimated Shares Outstanding</th>\n",
              "    </tr>\n",
              "  </thead>\n",
              "  <tbody>\n",
              "    <tr>\n",
              "      <th>0</th>\n",
              "      <td>0</td>\n",
              "      <td>AAL</td>\n",
              "      <td>2012-12-31</td>\n",
              "      <td>3.068000e+09</td>\n",
              "      <td>-222000000.0</td>\n",
              "      <td>-1.961000e+09</td>\n",
              "      <td>23.0</td>\n",
              "      <td>-1.888000e+09</td>\n",
              "      <td>4.695000e+09</td>\n",
              "      <td>53.0</td>\n",
              "      <td>...</td>\n",
              "      <td>7.072000e+09</td>\n",
              "      <td>9.011000e+09</td>\n",
              "      <td>-7.987000e+09</td>\n",
              "      <td>2.489100e+10</td>\n",
              "      <td>1.690400e+10</td>\n",
              "      <td>2.485500e+10</td>\n",
              "      <td>-367000000.0</td>\n",
              "      <td>2012.0</td>\n",
              "      <td>-5.60</td>\n",
              "      <td>3.350000e+08</td>\n",
              "    </tr>\n",
              "    <tr>\n",
              "      <th>1</th>\n",
              "      <td>1</td>\n",
              "      <td>AAL</td>\n",
              "      <td>2013-12-31</td>\n",
              "      <td>4.975000e+09</td>\n",
              "      <td>-93000000.0</td>\n",
              "      <td>-2.723000e+09</td>\n",
              "      <td>67.0</td>\n",
              "      <td>-3.114000e+09</td>\n",
              "      <td>1.059200e+10</td>\n",
              "      <td>75.0</td>\n",
              "      <td>...</td>\n",
              "      <td>1.432300e+10</td>\n",
              "      <td>1.380600e+10</td>\n",
              "      <td>-2.731000e+09</td>\n",
              "      <td>4.500900e+10</td>\n",
              "      <td>4.227800e+10</td>\n",
              "      <td>2.674300e+10</td>\n",
              "      <td>0.0</td>\n",
              "      <td>2013.0</td>\n",
              "      <td>-11.25</td>\n",
              "      <td>1.630222e+08</td>\n",
              "    </tr>\n",
              "    <tr>\n",
              "      <th>2</th>\n",
              "      <td>2</td>\n",
              "      <td>AAL</td>\n",
              "      <td>2014-12-31</td>\n",
              "      <td>4.668000e+09</td>\n",
              "      <td>-160000000.0</td>\n",
              "      <td>-1.500000e+08</td>\n",
              "      <td>143.0</td>\n",
              "      <td>-5.311000e+09</td>\n",
              "      <td>1.513500e+10</td>\n",
              "      <td>60.0</td>\n",
              "      <td>...</td>\n",
              "      <td>1.175000e+10</td>\n",
              "      <td>1.340400e+10</td>\n",
              "      <td>2.021000e+09</td>\n",
              "      <td>4.120400e+10</td>\n",
              "      <td>4.322500e+10</td>\n",
              "      <td>4.265000e+10</td>\n",
              "      <td>0.0</td>\n",
              "      <td>2014.0</td>\n",
              "      <td>4.02</td>\n",
              "      <td>7.169154e+08</td>\n",
              "    </tr>\n",
              "    <tr>\n",
              "      <th>3</th>\n",
              "      <td>3</td>\n",
              "      <td>AAL</td>\n",
              "      <td>2015-12-31</td>\n",
              "      <td>5.102000e+09</td>\n",
              "      <td>352000000.0</td>\n",
              "      <td>-7.080000e+08</td>\n",
              "      <td>135.0</td>\n",
              "      <td>-6.151000e+09</td>\n",
              "      <td>1.159100e+10</td>\n",
              "      <td>51.0</td>\n",
              "      <td>...</td>\n",
              "      <td>9.985000e+09</td>\n",
              "      <td>1.360500e+10</td>\n",
              "      <td>5.635000e+09</td>\n",
              "      <td>4.278000e+10</td>\n",
              "      <td>4.841500e+10</td>\n",
              "      <td>4.099000e+10</td>\n",
              "      <td>0.0</td>\n",
              "      <td>2015.0</td>\n",
              "      <td>11.39</td>\n",
              "      <td>6.681299e+08</td>\n",
              "    </tr>\n",
              "    <tr>\n",
              "      <th>4</th>\n",
              "      <td>4</td>\n",
              "      <td>AAP</td>\n",
              "      <td>2012-12-29</td>\n",
              "      <td>2.409453e+09</td>\n",
              "      <td>-89482000.0</td>\n",
              "      <td>6.000000e+05</td>\n",
              "      <td>32.0</td>\n",
              "      <td>-2.711820e+08</td>\n",
              "      <td>5.202150e+08</td>\n",
              "      <td>23.0</td>\n",
              "      <td>...</td>\n",
              "      <td>3.184200e+09</td>\n",
              "      <td>2.559638e+09</td>\n",
              "      <td>1.210694e+09</td>\n",
              "      <td>3.403120e+09</td>\n",
              "      <td>4.613814e+09</td>\n",
              "      <td>6.205003e+09</td>\n",
              "      <td>-27095000.0</td>\n",
              "      <td>2012.0</td>\n",
              "      <td>5.29</td>\n",
              "      <td>7.328355e+07</td>\n",
              "    </tr>\n",
              "  </tbody>\n",
              "</table>\n",
              "<p>5 rows × 79 columns</p>\n",
              "</div>\n",
              "      <button class=\"colab-df-convert\" onclick=\"convertToInteractive('df-18e58192-e097-475b-8d62-082371544c7f')\"\n",
              "              title=\"Convert this dataframe to an interactive table.\"\n",
              "              style=\"display:none;\">\n",
              "        \n",
              "  <svg xmlns=\"http://www.w3.org/2000/svg\" height=\"24px\"viewBox=\"0 0 24 24\"\n",
              "       width=\"24px\">\n",
              "    <path d=\"M0 0h24v24H0V0z\" fill=\"none\"/>\n",
              "    <path d=\"M18.56 5.44l.94 2.06.94-2.06 2.06-.94-2.06-.94-.94-2.06-.94 2.06-2.06.94zm-11 1L8.5 8.5l.94-2.06 2.06-.94-2.06-.94L8.5 2.5l-.94 2.06-2.06.94zm10 10l.94 2.06.94-2.06 2.06-.94-2.06-.94-.94-2.06-.94 2.06-2.06.94z\"/><path d=\"M17.41 7.96l-1.37-1.37c-.4-.4-.92-.59-1.43-.59-.52 0-1.04.2-1.43.59L10.3 9.45l-7.72 7.72c-.78.78-.78 2.05 0 2.83L4 21.41c.39.39.9.59 1.41.59.51 0 1.02-.2 1.41-.59l7.78-7.78 2.81-2.81c.8-.78.8-2.07 0-2.86zM5.41 20L4 18.59l7.72-7.72 1.47 1.35L5.41 20z\"/>\n",
              "  </svg>\n",
              "      </button>\n",
              "      \n",
              "  <style>\n",
              "    .colab-df-container {\n",
              "      display:flex;\n",
              "      flex-wrap:wrap;\n",
              "      gap: 12px;\n",
              "    }\n",
              "\n",
              "    .colab-df-convert {\n",
              "      background-color: #E8F0FE;\n",
              "      border: none;\n",
              "      border-radius: 50%;\n",
              "      cursor: pointer;\n",
              "      display: none;\n",
              "      fill: #1967D2;\n",
              "      height: 32px;\n",
              "      padding: 0 0 0 0;\n",
              "      width: 32px;\n",
              "    }\n",
              "\n",
              "    .colab-df-convert:hover {\n",
              "      background-color: #E2EBFA;\n",
              "      box-shadow: 0px 1px 2px rgba(60, 64, 67, 0.3), 0px 1px 3px 1px rgba(60, 64, 67, 0.15);\n",
              "      fill: #174EA6;\n",
              "    }\n",
              "\n",
              "    [theme=dark] .colab-df-convert {\n",
              "      background-color: #3B4455;\n",
              "      fill: #D2E3FC;\n",
              "    }\n",
              "\n",
              "    [theme=dark] .colab-df-convert:hover {\n",
              "      background-color: #434B5C;\n",
              "      box-shadow: 0px 1px 3px 1px rgba(0, 0, 0, 0.15);\n",
              "      filter: drop-shadow(0px 1px 2px rgba(0, 0, 0, 0.3));\n",
              "      fill: #FFFFFF;\n",
              "    }\n",
              "  </style>\n",
              "\n",
              "      <script>\n",
              "        const buttonEl =\n",
              "          document.querySelector('#df-18e58192-e097-475b-8d62-082371544c7f button.colab-df-convert');\n",
              "        buttonEl.style.display =\n",
              "          google.colab.kernel.accessAllowed ? 'block' : 'none';\n",
              "\n",
              "        async function convertToInteractive(key) {\n",
              "          const element = document.querySelector('#df-18e58192-e097-475b-8d62-082371544c7f');\n",
              "          const dataTable =\n",
              "            await google.colab.kernel.invokeFunction('convertToInteractive',\n",
              "                                                     [key], {});\n",
              "          if (!dataTable) return;\n",
              "\n",
              "          const docLinkHtml = 'Like what you see? Visit the ' +\n",
              "            '<a target=\"_blank\" href=https://colab.research.google.com/notebooks/data_table.ipynb>data table notebook</a>'\n",
              "            + ' to learn more about interactive tables.';\n",
              "          element.innerHTML = '';\n",
              "          dataTable['output_type'] = 'display_data';\n",
              "          await google.colab.output.renderOutput(dataTable, element);\n",
              "          const docLink = document.createElement('div');\n",
              "          docLink.innerHTML = docLinkHtml;\n",
              "          element.appendChild(docLink);\n",
              "        }\n",
              "      </script>\n",
              "    </div>\n",
              "  </div>\n",
              "  "
            ]
          },
          "metadata": {},
          "execution_count": 6
        }
      ]
    },
    {
      "cell_type": "markdown",
      "source": [
        "I am extracting the apple stocks only: AAPL"
      ],
      "metadata": {
        "_uuid": "3c11e040c3ab738df846f38eb27d64537c497a1b",
        "id": "dRa7zElTs5en"
      }
    },
    {
      "cell_type": "code",
      "source": [
        "data_df = data_df[data_df.symbol == 'AAPL']\n",
        "data_df.drop(['symbol'],1,inplace=True)\n",
        "data_df.head()"
      ],
      "metadata": {
        "_uuid": "30a9e8f016f0fff16e5cc1223a3e916176077120",
        "trusted": true,
        "colab": {
          "base_uri": "https://localhost:8080/",
          "height": 379
        },
        "id": "3VwSHWmqs5en",
        "outputId": "15f90b9b-0e07-4fea-9f54-1f94386ea65a"
      },
      "execution_count": 7,
      "outputs": [
        {
          "output_type": "stream",
          "name": "stderr",
          "text": [
            "/usr/local/lib/python3.7/dist-packages/ipykernel_launcher.py:2: FutureWarning: In a future version of pandas all arguments of DataFrame.drop except for the argument 'labels' will be keyword-only\n",
            "  \n",
            "/usr/local/lib/python3.7/dist-packages/pandas/core/frame.py:4913: SettingWithCopyWarning: \n",
            "A value is trying to be set on a copy of a slice from a DataFrame\n",
            "\n",
            "See the caveats in the documentation: https://pandas.pydata.org/pandas-docs/stable/user_guide/indexing.html#returning-a-view-versus-a-copy\n",
            "  errors=errors,\n"
          ]
        },
        {
          "output_type": "execute_result",
          "data": {
            "text/plain": [
              "                 open      close        low       high       volume\n",
              "date                                                               \n",
              "2010-01-04  30.490000  30.572857  30.340000  30.642857  123432400.0\n",
              "2010-01-05  30.657143  30.625713  30.464285  30.798571  150476200.0\n",
              "2010-01-06  30.625713  30.138571  30.107143  30.747143  138040000.0\n",
              "2010-01-07  30.250000  30.082857  29.864286  30.285715  119282800.0\n",
              "2010-01-08  30.042856  30.282858  29.865715  30.285715  111902700.0"
            ],
            "text/html": [
              "\n",
              "  <div id=\"df-4a2691fa-e53a-4ecc-a2fe-4d3ef22017cc\">\n",
              "    <div class=\"colab-df-container\">\n",
              "      <div>\n",
              "<style scoped>\n",
              "    .dataframe tbody tr th:only-of-type {\n",
              "        vertical-align: middle;\n",
              "    }\n",
              "\n",
              "    .dataframe tbody tr th {\n",
              "        vertical-align: top;\n",
              "    }\n",
              "\n",
              "    .dataframe thead th {\n",
              "        text-align: right;\n",
              "    }\n",
              "</style>\n",
              "<table border=\"1\" class=\"dataframe\">\n",
              "  <thead>\n",
              "    <tr style=\"text-align: right;\">\n",
              "      <th></th>\n",
              "      <th>open</th>\n",
              "      <th>close</th>\n",
              "      <th>low</th>\n",
              "      <th>high</th>\n",
              "      <th>volume</th>\n",
              "    </tr>\n",
              "    <tr>\n",
              "      <th>date</th>\n",
              "      <th></th>\n",
              "      <th></th>\n",
              "      <th></th>\n",
              "      <th></th>\n",
              "      <th></th>\n",
              "    </tr>\n",
              "  </thead>\n",
              "  <tbody>\n",
              "    <tr>\n",
              "      <th>2010-01-04</th>\n",
              "      <td>30.490000</td>\n",
              "      <td>30.572857</td>\n",
              "      <td>30.340000</td>\n",
              "      <td>30.642857</td>\n",
              "      <td>123432400.0</td>\n",
              "    </tr>\n",
              "    <tr>\n",
              "      <th>2010-01-05</th>\n",
              "      <td>30.657143</td>\n",
              "      <td>30.625713</td>\n",
              "      <td>30.464285</td>\n",
              "      <td>30.798571</td>\n",
              "      <td>150476200.0</td>\n",
              "    </tr>\n",
              "    <tr>\n",
              "      <th>2010-01-06</th>\n",
              "      <td>30.625713</td>\n",
              "      <td>30.138571</td>\n",
              "      <td>30.107143</td>\n",
              "      <td>30.747143</td>\n",
              "      <td>138040000.0</td>\n",
              "    </tr>\n",
              "    <tr>\n",
              "      <th>2010-01-07</th>\n",
              "      <td>30.250000</td>\n",
              "      <td>30.082857</td>\n",
              "      <td>29.864286</td>\n",
              "      <td>30.285715</td>\n",
              "      <td>119282800.0</td>\n",
              "    </tr>\n",
              "    <tr>\n",
              "      <th>2010-01-08</th>\n",
              "      <td>30.042856</td>\n",
              "      <td>30.282858</td>\n",
              "      <td>29.865715</td>\n",
              "      <td>30.285715</td>\n",
              "      <td>111902700.0</td>\n",
              "    </tr>\n",
              "  </tbody>\n",
              "</table>\n",
              "</div>\n",
              "      <button class=\"colab-df-convert\" onclick=\"convertToInteractive('df-4a2691fa-e53a-4ecc-a2fe-4d3ef22017cc')\"\n",
              "              title=\"Convert this dataframe to an interactive table.\"\n",
              "              style=\"display:none;\">\n",
              "        \n",
              "  <svg xmlns=\"http://www.w3.org/2000/svg\" height=\"24px\"viewBox=\"0 0 24 24\"\n",
              "       width=\"24px\">\n",
              "    <path d=\"M0 0h24v24H0V0z\" fill=\"none\"/>\n",
              "    <path d=\"M18.56 5.44l.94 2.06.94-2.06 2.06-.94-2.06-.94-.94-2.06-.94 2.06-2.06.94zm-11 1L8.5 8.5l.94-2.06 2.06-.94-2.06-.94L8.5 2.5l-.94 2.06-2.06.94zm10 10l.94 2.06.94-2.06 2.06-.94-2.06-.94-.94-2.06-.94 2.06-2.06.94z\"/><path d=\"M17.41 7.96l-1.37-1.37c-.4-.4-.92-.59-1.43-.59-.52 0-1.04.2-1.43.59L10.3 9.45l-7.72 7.72c-.78.78-.78 2.05 0 2.83L4 21.41c.39.39.9.59 1.41.59.51 0 1.02-.2 1.41-.59l7.78-7.78 2.81-2.81c.8-.78.8-2.07 0-2.86zM5.41 20L4 18.59l7.72-7.72 1.47 1.35L5.41 20z\"/>\n",
              "  </svg>\n",
              "      </button>\n",
              "      \n",
              "  <style>\n",
              "    .colab-df-container {\n",
              "      display:flex;\n",
              "      flex-wrap:wrap;\n",
              "      gap: 12px;\n",
              "    }\n",
              "\n",
              "    .colab-df-convert {\n",
              "      background-color: #E8F0FE;\n",
              "      border: none;\n",
              "      border-radius: 50%;\n",
              "      cursor: pointer;\n",
              "      display: none;\n",
              "      fill: #1967D2;\n",
              "      height: 32px;\n",
              "      padding: 0 0 0 0;\n",
              "      width: 32px;\n",
              "    }\n",
              "\n",
              "    .colab-df-convert:hover {\n",
              "      background-color: #E2EBFA;\n",
              "      box-shadow: 0px 1px 2px rgba(60, 64, 67, 0.3), 0px 1px 3px 1px rgba(60, 64, 67, 0.15);\n",
              "      fill: #174EA6;\n",
              "    }\n",
              "\n",
              "    [theme=dark] .colab-df-convert {\n",
              "      background-color: #3B4455;\n",
              "      fill: #D2E3FC;\n",
              "    }\n",
              "\n",
              "    [theme=dark] .colab-df-convert:hover {\n",
              "      background-color: #434B5C;\n",
              "      box-shadow: 0px 1px 3px 1px rgba(0, 0, 0, 0.15);\n",
              "      filter: drop-shadow(0px 1px 2px rgba(0, 0, 0, 0.3));\n",
              "      fill: #FFFFFF;\n",
              "    }\n",
              "  </style>\n",
              "\n",
              "      <script>\n",
              "        const buttonEl =\n",
              "          document.querySelector('#df-4a2691fa-e53a-4ecc-a2fe-4d3ef22017cc button.colab-df-convert');\n",
              "        buttonEl.style.display =\n",
              "          google.colab.kernel.accessAllowed ? 'block' : 'none';\n",
              "\n",
              "        async function convertToInteractive(key) {\n",
              "          const element = document.querySelector('#df-4a2691fa-e53a-4ecc-a2fe-4d3ef22017cc');\n",
              "          const dataTable =\n",
              "            await google.colab.kernel.invokeFunction('convertToInteractive',\n",
              "                                                     [key], {});\n",
              "          if (!dataTable) return;\n",
              "\n",
              "          const docLinkHtml = 'Like what you see? Visit the ' +\n",
              "            '<a target=\"_blank\" href=https://colab.research.google.com/notebooks/data_table.ipynb>data table notebook</a>'\n",
              "            + ' to learn more about interactive tables.';\n",
              "          element.innerHTML = '';\n",
              "          dataTable['output_type'] = 'display_data';\n",
              "          await google.colab.output.renderOutput(dataTable, element);\n",
              "          const docLink = document.createElement('div');\n",
              "          docLink.innerHTML = docLinkHtml;\n",
              "          element.appendChild(docLink);\n",
              "        }\n",
              "      </script>\n",
              "    </div>\n",
              "  </div>\n",
              "  "
            ]
          },
          "metadata": {},
          "execution_count": 7
        }
      ]
    },
    {
      "cell_type": "code",
      "source": [
        "data_df.shape"
      ],
      "metadata": {
        "_uuid": "5c0fd9cca138d6a2f2e685250e40bce62024533e",
        "trusted": true,
        "colab": {
          "base_uri": "https://localhost:8080/"
        },
        "id": "65ijFcPts5eo",
        "outputId": "0b8df9b6-b6ed-43d7-8088-26d0291bd2fc"
      },
      "execution_count": 8,
      "outputs": [
        {
          "output_type": "execute_result",
          "data": {
            "text/plain": [
              "(509, 5)"
            ]
          },
          "metadata": {},
          "execution_count": 8
        }
      ]
    },
    {
      "cell_type": "code",
      "source": [
        "data_df.tail()"
      ],
      "metadata": {
        "_uuid": "07c12f402fb3665e301b261047370ec649051fad",
        "trusted": true,
        "id": "hrdGeuAss5eo"
      },
      "execution_count": null,
      "outputs": []
    },
    {
      "cell_type": "code",
      "source": [
        "plt.plot(data_df['close'])\n",
        "plt.show()"
      ],
      "metadata": {
        "_uuid": "f33002b25a435462d40a85f23e633928512317fc",
        "trusted": true,
        "colab": {
          "base_uri": "https://localhost:8080/",
          "height": 265
        },
        "id": "i0r6YwM_s5ep",
        "outputId": "a3276dee-f1ce-4f4a-a5d0-c196305b906e"
      },
      "execution_count": 9,
      "outputs": [
        {
          "output_type": "display_data",
          "data": {
            "text/plain": [
              "<Figure size 432x288 with 1 Axes>"
            ],
            "image/png": "[encoded data removed]"
          },
          "metadata": {
            "needs_background": "light"
          }
        }
      ]
    },
    {
      "cell_type": "code",
      "source": [
        "data_df['date'] = data_df.index\n",
        "data_df.head()"
      ],
      "metadata": {
        "_uuid": "04398b0df33164535ffda6dd7ccb1a84fa13bee8",
        "trusted": true,
        "colab": {
          "base_uri": "https://localhost:8080/",
          "height": 237
        },
        "id": "EOAQpGXis5eq",
        "outputId": "00d26434-ffa7-4b08-b673-a24e8433fbb4"
      },
      "execution_count": 10,
      "outputs": [
        {
          "output_type": "execute_result",
          "data": {
            "text/plain": [
              "                 open      close        low       high       volume  \\\n",
              "date                                                                  \n",
              "2010-01-04  30.490000  30.572857  30.340000  30.642857  123432400.0   \n",
              "2010-01-05  30.657143  30.625713  30.464285  30.798571  150476200.0   \n",
              "2010-01-06  30.625713  30.138571  30.107143  30.747143  138040000.0   \n",
              "2010-01-07  30.250000  30.082857  29.864286  30.285715  119282800.0   \n",
              "2010-01-08  30.042856  30.282858  29.865715  30.285715  111902700.0   \n",
              "\n",
              "                  date  \n",
              "date                    \n",
              "2010-01-04  2010-01-04  \n",
              "2010-01-05  2010-01-05  \n",
              "2010-01-06  2010-01-06  \n",
              "2010-01-07  2010-01-07  \n",
              "2010-01-08  2010-01-08  "
            ],
            "text/html": [
              "\n",
              "  <div id=\"df-c5320724-5673-497e-9bdb-6ab632b7bbe6\">\n",
              "    <div class=\"colab-df-container\">\n",
              "      <div>\n",
              "<style scoped>\n",
              "    .dataframe tbody tr th:only-of-type {\n",
              "        vertical-align: middle;\n",
              "    }\n",
              "\n",
              "    .dataframe tbody tr th {\n",
              "        vertical-align: top;\n",
              "    }\n",
              "\n",
              "    .dataframe thead th {\n",
              "        text-align: right;\n",
              "    }\n",
              "</style>\n",
              "<table border=\"1\" class=\"dataframe\">\n",
              "  <thead>\n",
              "    <tr style=\"text-align: right;\">\n",
              "      <th></th>\n",
              "      <th>open</th>\n",
              "      <th>close</th>\n",
              "      <th>low</th>\n",
              "      <th>high</th>\n",
              "      <th>volume</th>\n",
              "      <th>date</th>\n",
              "    </tr>\n",
              "    <tr>\n",
              "      <th>date</th>\n",
              "      <th></th>\n",
              "      <th></th>\n",
              "      <th></th>\n",
              "      <th></th>\n",
              "      <th></th>\n",
              "      <th></th>\n",
              "    </tr>\n",
              "  </thead>\n",
              "  <tbody>\n",
              "    <tr>\n",
              "      <th>2010-01-04</th>\n",
              "      <td>30.490000</td>\n",
              "      <td>30.572857</td>\n",
              "      <td>30.340000</td>\n",
              "      <td>30.642857</td>\n",
              "      <td>123432400.0</td>\n",
              "      <td>2010-01-04</td>\n",
              "    </tr>\n",
              "    <tr>\n",
              "      <th>2010-01-05</th>\n",
              "      <td>30.657143</td>\n",
              "      <td>30.625713</td>\n",
              "      <td>30.464285</td>\n",
              "      <td>30.798571</td>\n",
              "      <td>150476200.0</td>\n",
              "      <td>2010-01-05</td>\n",
              "    </tr>\n",
              "    <tr>\n",
              "      <th>2010-01-06</th>\n",
              "      <td>30.625713</td>\n",
              "      <td>30.138571</td>\n",
              "      <td>30.107143</td>\n",
              "      <td>30.747143</td>\n",
              "      <td>138040000.0</td>\n",
              "      <td>2010-01-06</td>\n",
              "    </tr>\n",
              "    <tr>\n",
              "      <th>2010-01-07</th>\n",
              "      <td>30.250000</td>\n",
              "      <td>30.082857</td>\n",
              "      <td>29.864286</td>\n",
              "      <td>30.285715</td>\n",
              "      <td>119282800.0</td>\n",
              "      <td>2010-01-07</td>\n",
              "    </tr>\n",
              "    <tr>\n",
              "      <th>2010-01-08</th>\n",
              "      <td>30.042856</td>\n",
              "      <td>30.282858</td>\n",
              "      <td>29.865715</td>\n",
              "      <td>30.285715</td>\n",
              "      <td>111902700.0</td>\n",
              "      <td>2010-01-08</td>\n",
              "    </tr>\n",
              "  </tbody>\n",
              "</table>\n",
              "</div>\n",
              "      <button class=\"colab-df-convert\" onclick=\"convertToInteractive('df-c5320724-5673-497e-9bdb-6ab632b7bbe6')\"\n",
              "              title=\"Convert this dataframe to an interactive table.\"\n",
              "              style=\"display:none;\">\n",
              "        \n",
              "  <svg xmlns=\"http://www.w3.org/2000/svg\" height=\"24px\"viewBox=\"0 0 24 24\"\n",
              "       width=\"24px\">\n",
              "    <path d=\"M0 0h24v24H0V0z\" fill=\"none\"/>\n",
              "    <path d=\"M18.56 5.44l.94 2.06.94-2.06 2.06-.94-2.06-.94-.94-2.06-.94 2.06-2.06.94zm-11 1L8.5 8.5l.94-2.06 2.06-.94-2.06-.94L8.5 2.5l-.94 2.06-2.06.94zm10 10l.94 2.06.94-2.06 2.06-.94-2.06-.94-.94-2.06-.94 2.06-2.06.94z\"/><path d=\"M17.41 7.96l-1.37-1.37c-.4-.4-.92-.59-1.43-.59-.52 0-1.04.2-1.43.59L10.3 9.45l-7.72 7.72c-.78.78-.78 2.05 0 2.83L4 21.41c.39.39.9.59 1.41.59.51 0 1.02-.2 1.41-.59l7.78-7.78 2.81-2.81c.8-.78.8-2.07 0-2.86zM5.41 20L4 18.59l7.72-7.72 1.47 1.35L5.41 20z\"/>\n",
              "  </svg>\n",
              "      </button>\n",
              "      \n",
              "  <style>\n",
              "    .colab-df-container {\n",
              "      display:flex;\n",
              "      flex-wrap:wrap;\n",
              "      gap: 12px;\n",
              "    }\n",
              "\n",
              "    .colab-df-convert {\n",
              "      background-color: #E8F0FE;\n",
              "      border: none;\n",
              "      border-radius: 50%;\n",
              "      cursor: pointer;\n",
              "      display: none;\n",
              "      fill: #1967D2;\n",
              "      height: 32px;\n",
              "      padding: 0 0 0 0;\n",
              "      width: 32px;\n",
              "    }\n",
              "\n",
              "    .colab-df-convert:hover {\n",
              "      background-color: #E2EBFA;\n",
              "      box-shadow: 0px 1px 2px rgba(60, 64, 67, 0.3), 0px 1px 3px 1px rgba(60, 64, 67, 0.15);\n",
              "      fill: #174EA6;\n",
              "    }\n",
              "\n",
              "    [theme=dark] .colab-df-convert {\n",
              "      background-color: #3B4455;\n",
              "      fill: #D2E3FC;\n",
              "    }\n",
              "\n",
              "    [theme=dark] .colab-df-convert:hover {\n",
              "      background-color: #434B5C;\n",
              "      box-shadow: 0px 1px 3px 1px rgba(0, 0, 0, 0.15);\n",
              "      filter: drop-shadow(0px 1px 2px rgba(0, 0, 0, 0.3));\n",
              "      fill: #FFFFFF;\n",
              "    }\n",
              "  </style>\n",
              "\n",
              "      <script>\n",
              "        const buttonEl =\n",
              "          document.querySelector('#df-c5320724-5673-497e-9bdb-6ab632b7bbe6 button.colab-df-convert');\n",
              "        buttonEl.style.display =\n",
              "          google.colab.kernel.accessAllowed ? 'block' : 'none';\n",
              "\n",
              "        async function convertToInteractive(key) {\n",
              "          const element = document.querySelector('#df-c5320724-5673-497e-9bdb-6ab632b7bbe6');\n",
              "          const dataTable =\n",
              "            await google.colab.kernel.invokeFunction('convertToInteractive',\n",
              "                                                     [key], {});\n",
              "          if (!dataTable) return;\n",
              "\n",
              "          const docLinkHtml = 'Like what you see? Visit the ' +\n",
              "            '<a target=\"_blank\" href=https://colab.research.google.com/notebooks/data_table.ipynb>data table notebook</a>'\n",
              "            + ' to learn more about interactive tables.';\n",
              "          element.innerHTML = '';\n",
              "          dataTable['output_type'] = 'display_data';\n",
              "          await google.colab.output.renderOutput(dataTable, element);\n",
              "          const docLink = document.createElement('div');\n",
              "          docLink.innerHTML = docLinkHtml;\n",
              "          element.appendChild(docLink);\n",
              "        }\n",
              "      </script>\n",
              "    </div>\n",
              "  </div>\n",
              "  "
            ]
          },
          "metadata": {},
          "execution_count": 10
        }
      ]
    },
    {
      "cell_type": "code",
      "source": [
        "data_df['date'] = pd.to_datetime(data_df['date'])"
      ],
      "metadata": {
        "_uuid": "2733fda3dce158e296264da65e2d8ca34fffbf55",
        "trusted": true,
        "id": "B54BX7R8s5eq"
      },
      "execution_count": 11,
      "outputs": []
    },
    {
      "cell_type": "code",
      "source": [
        "data_df.head()"
      ],
      "metadata": {
        "_uuid": "0d470c8e6fa660b3b8dad878a8d4a0c04bfa9f71",
        "trusted": true,
        "colab": {
          "base_uri": "https://localhost:8080/",
          "height": 237
        },
        "id": "hwTpCS3Ps5er",
        "outputId": "f600510e-1a89-4cf3-f339-97c89bd06aad"
      },
      "execution_count": 12,
      "outputs": [
        {
          "output_type": "execute_result",
          "data": {
            "text/plain": [
              "                 open      close        low       high       volume       date\n",
              "date                                                                          \n",
              "2010-01-04  30.490000  30.572857  30.340000  30.642857  123432400.0 2010-01-04\n",
              "2010-01-05  30.657143  30.625713  30.464285  30.798571  150476200.0 2010-01-05\n",
              "2010-01-06  30.625713  30.138571  30.107143  30.747143  138040000.0 2010-01-06\n",
              "2010-01-07  30.250000  30.082857  29.864286  30.285715  119282800.0 2010-01-07\n",
              "2010-01-08  30.042856  30.282858  29.865715  30.285715  111902700.0 2010-01-08"
            ],
            "text/html": [
              "\n",
              "  <div id=\"df-9465ad82-f607-4f6a-ba74-1a43b59120c3\">\n",
              "    <div class=\"colab-df-container\">\n",
              "      <div>\n",
              "<style scoped>\n",
              "    .dataframe tbody tr th:only-of-type {\n",
              "        vertical-align: middle;\n",
              "    }\n",
              "\n",
              "    .dataframe tbody tr th {\n",
              "        vertical-align: top;\n",
              "    }\n",
              "\n",
              "    .dataframe thead th {\n",
              "        text-align: right;\n",
              "    }\n",
              "</style>\n",
              "<table border=\"1\" class=\"dataframe\">\n",
              "  <thead>\n",
              "    <tr style=\"text-align: right;\">\n",
              "      <th></th>\n",
              "      <th>open</th>\n",
              "      <th>close</th>\n",
              "      <th>low</th>\n",
              "      <th>high</th>\n",
              "      <th>volume</th>\n",
              "      <th>date</th>\n",
              "    </tr>\n",
              "    <tr>\n",
              "      <th>date</th>\n",
              "      <th></th>\n",
              "      <th></th>\n",
              "      <th></th>\n",
              "      <th></th>\n",
              "      <th></th>\n",
              "      <th></th>\n",
              "    </tr>\n",
              "  </thead>\n",
              "  <tbody>\n",
              "    <tr>\n",
              "      <th>2010-01-04</th>\n",
              "      <td>30.490000</td>\n",
              "      <td>30.572857</td>\n",
              "      <td>30.340000</td>\n",
              "      <td>30.642857</td>\n",
              "      <td>123432400.0</td>\n",
              "      <td>2010-01-04</td>\n",
              "    </tr>\n",
              "    <tr>\n",
              "      <th>2010-01-05</th>\n",
              "      <td>30.657143</td>\n",
              "      <td>30.625713</td>\n",
              "      <td>30.464285</td>\n",
              "      <td>30.798571</td>\n",
              "      <td>150476200.0</td>\n",
              "      <td>2010-01-05</td>\n",
              "    </tr>\n",
              "    <tr>\n",
              "      <th>2010-01-06</th>\n",
              "      <td>30.625713</td>\n",
              "      <td>30.138571</td>\n",
              "      <td>30.107143</td>\n",
              "      <td>30.747143</td>\n",
              "      <td>138040000.0</td>\n",
              "      <td>2010-01-06</td>\n",
              "    </tr>\n",
              "    <tr>\n",
              "      <th>2010-01-07</th>\n",
              "      <td>30.250000</td>\n",
              "      <td>30.082857</td>\n",
              "      <td>29.864286</td>\n",
              "      <td>30.285715</td>\n",
              "      <td>119282800.0</td>\n",
              "      <td>2010-01-07</td>\n",
              "    </tr>\n",
              "    <tr>\n",
              "      <th>2010-01-08</th>\n",
              "      <td>30.042856</td>\n",
              "      <td>30.282858</td>\n",
              "      <td>29.865715</td>\n",
              "      <td>30.285715</td>\n",
              "      <td>111902700.0</td>\n",
              "      <td>2010-01-08</td>\n",
              "    </tr>\n",
              "  </tbody>\n",
              "</table>\n",
              "</div>\n",
              "      <button class=\"colab-df-convert\" onclick=\"convertToInteractive('df-9465ad82-f607-4f6a-ba74-1a43b59120c3')\"\n",
              "              title=\"Convert this dataframe to an interactive table.\"\n",
              "              style=\"display:none;\">\n",
              "        \n",
              "  <svg xmlns=\"http://www.w3.org/2000/svg\" height=\"24px\"viewBox=\"0 0 24 24\"\n",
              "       width=\"24px\">\n",
              "    <path d=\"M0 0h24v24H0V0z\" fill=\"none\"/>\n",
              "    <path d=\"M18.56 5.44l.94 2.06.94-2.06 2.06-.94-2.06-.94-.94-2.06-.94 2.06-2.06.94zm-11 1L8.5 8.5l.94-2.06 2.06-.94-2.06-.94L8.5 2.5l-.94 2.06-2.06.94zm10 10l.94 2.06.94-2.06 2.06-.94-2.06-.94-.94-2.06-.94 2.06-2.06.94z\"/><path d=\"M17.41 7.96l-1.37-1.37c-.4-.4-.92-.59-1.43-.59-.52 0-1.04.2-1.43.59L10.3 9.45l-7.72 7.72c-.78.78-.78 2.05 0 2.83L4 21.41c.39.39.9.59 1.41.59.51 0 1.02-.2 1.41-.59l7.78-7.78 2.81-2.81c.8-.78.8-2.07 0-2.86zM5.41 20L4 18.59l7.72-7.72 1.47 1.35L5.41 20z\"/>\n",
              "  </svg>\n",
              "      </button>\n",
              "      \n",
              "  <style>\n",
              "    .colab-df-container {\n",
              "      display:flex;\n",
              "      flex-wrap:wrap;\n",
              "      gap: 12px;\n",
              "    }\n",
              "\n",
              "    .colab-df-convert {\n",
              "      background-color: #E8F0FE;\n",
              "      border: none;\n",
              "      border-radius: 50%;\n",
              "      cursor: pointer;\n",
              "      display: none;\n",
              "      fill: #1967D2;\n",
              "      height: 32px;\n",
              "      padding: 0 0 0 0;\n",
              "      width: 32px;\n",
              "    }\n",
              "\n",
              "    .colab-df-convert:hover {\n",
              "      background-color: #E2EBFA;\n",
              "      box-shadow: 0px 1px 2px rgba(60, 64, 67, 0.3), 0px 1px 3px 1px rgba(60, 64, 67, 0.15);\n",
              "      fill: #174EA6;\n",
              "    }\n",
              "\n",
              "    [theme=dark] .colab-df-convert {\n",
              "      background-color: #3B4455;\n",
              "      fill: #D2E3FC;\n",
              "    }\n",
              "\n",
              "    [theme=dark] .colab-df-convert:hover {\n",
              "      background-color: #434B5C;\n",
              "      box-shadow: 0px 1px 3px 1px rgba(0, 0, 0, 0.15);\n",
              "      filter: drop-shadow(0px 1px 2px rgba(0, 0, 0, 0.3));\n",
              "      fill: #FFFFFF;\n",
              "    }\n",
              "  </style>\n",
              "\n",
              "      <script>\n",
              "        const buttonEl =\n",
              "          document.querySelector('#df-9465ad82-f607-4f6a-ba74-1a43b59120c3 button.colab-df-convert');\n",
              "        buttonEl.style.display =\n",
              "          google.colab.kernel.accessAllowed ? 'block' : 'none';\n",
              "\n",
              "        async function convertToInteractive(key) {\n",
              "          const element = document.querySelector('#df-9465ad82-f607-4f6a-ba74-1a43b59120c3');\n",
              "          const dataTable =\n",
              "            await google.colab.kernel.invokeFunction('convertToInteractive',\n",
              "                                                     [key], {});\n",
              "          if (!dataTable) return;\n",
              "\n",
              "          const docLinkHtml = 'Like what you see? Visit the ' +\n",
              "            '<a target=\"_blank\" href=https://colab.research.google.com/notebooks/data_table.ipynb>data table notebook</a>'\n",
              "            + ' to learn more about interactive tables.';\n",
              "          element.innerHTML = '';\n",
              "          dataTable['output_type'] = 'display_data';\n",
              "          await google.colab.output.renderOutput(dataTable, element);\n",
              "          const docLink = document.createElement('div');\n",
              "          docLink.innerHTML = docLinkHtml;\n",
              "          element.appendChild(docLink);\n",
              "        }\n",
              "      </script>\n",
              "    </div>\n",
              "  </div>\n",
              "  "
            ]
          },
          "metadata": {},
          "execution_count": 12
        }
      ]
    },
    {
      "cell_type": "markdown",
      "source": [
        "> LSTMs are sensitive to the scale of the input data, specifically when the sigmoid (default) or tanh activation functions are used. It can be a good practice to rescale the data to the range of 0-to-1, also called normalizing. "
      ],
      "metadata": {
        "_uuid": "a2de7ca765456476e28f9ab2b6ccbdd21a2c232e",
        "id": "HqZ-qfM-s5er"
      }
    },
    {
      "cell_type": "code",
      "source": [
        "min_max_scaler = preprocessing.MinMaxScaler(feature_range=(0, 1))\n",
        "dataset = min_max_scaler.fit_transform(data_df['close'].values.reshape(-1, 1))"
      ],
      "metadata": {
        "_uuid": "6c4467ccf683815c8c1c9854e7f9dde7a93c1ff9",
        "trusted": true,
        "id": "d8rWy03us5er"
      },
      "execution_count": 13,
      "outputs": []
    },
    {
      "cell_type": "code",
      "source": [
        "dataset[0:10]"
      ],
      "metadata": {
        "_uuid": "2cdc2d0f0bf9bd849154f6bae2e2affcf7042df2",
        "trusted": true,
        "id": "r5N4CaGLs5er"
      },
      "execution_count": null,
      "outputs": []
    },
    {
      "cell_type": "code",
      "source": [
        "# split into train and test sets\n",
        "train_size = int(len(dataset) * 0.7)\n",
        "test_size = len(dataset) - train_size\n",
        "train, test = dataset[0:train_size,:], dataset[train_size:len(dataset),:]\n",
        "print(len(train), len(test))"
      ],
      "metadata": {
        "_uuid": "ed19f2e090bc572e88689259268b5c2d6fb4dd77",
        "trusted": true,
        "colab": {
          "base_uri": "https://localhost:8080/"
        },
        "id": "tTD3x8TWs5es",
        "outputId": "d57f48a7-f93b-46ba-e8b5-9226443ed76a"
      },
      "execution_count": 14,
      "outputs": [
        {
          "output_type": "stream",
          "name": "stdout",
          "text": [
            "356 153\n"
          ]
        }
      ]
    },
    {
      "cell_type": "code",
      "source": [
        "print(len(data_df))\n",
        "print(1233 + 529)"
      ],
      "metadata": {
        "_uuid": "b518b503213f8779050ff9641d6155c18a50c39a",
        "trusted": true,
        "colab": {
          "base_uri": "https://localhost:8080/"
        },
        "id": "oKIZjdJNs5es",
        "outputId": "ab2bdda1-8dea-4db4-a7f8-2c1db4b0578d"
      },
      "execution_count": 15,
      "outputs": [
        {
          "output_type": "stream",
          "name": "stdout",
          "text": [
            "509\n",
            "1762\n"
          ]
        }
      ]
    },
    {
      "cell_type": "markdown",
      "source": [
        "I set the look back date as 15 days, which is the number of previous time steps to use as input variables to predict the next time period"
      ],
      "metadata": {
        "_uuid": "880eba47d20b5e86e3289301ec70c3c42f8fbc61",
        "id": "b2m_cgfas5es"
      }
    },
    {
      "cell_type": "code",
      "source": [
        "# convert an array of values into a dataset matrix\n",
        "def create_dataset(dataset, look_back=15):\n",
        "    dataX, dataY = [], []\n",
        "    for i in range(len(dataset)-look_back-1):\n",
        "        a = dataset[i:(i+look_back), 0]\n",
        "        dataX.append(a)\n",
        "        dataY.append(dataset[i + look_back, 0])\n",
        "    return np.array(dataX), np.array(dataY)"
      ],
      "metadata": {
        "_uuid": "7b6b6088e81a10df71f2cba199833bf8c536ef49",
        "trusted": true,
        "id": "D_ONkNF3s5es"
      },
      "execution_count": 16,
      "outputs": []
    },
    {
      "cell_type": "code",
      "source": [
        "x_train, y_train = create_dataset(train, look_back=15)\n",
        "x_test, y_test = create_dataset(test, look_back=15)"
      ],
      "metadata": {
        "_uuid": "dbbd295863fcd0f9f968e32b2112bc1993be4170",
        "trusted": true,
        "id": "zLBmkgDfs5es"
      },
      "execution_count": 17,
      "outputs": []
    },
    {
      "cell_type": "code",
      "source": [
        "print(x_train.shape)\n",
        "print(y_train.shape)\n",
        "print(x_test.shape)\n",
        "print(y_test.shape)"
      ],
      "metadata": {
        "_uuid": "286f91632921a0bd9c22f3c59a63ece054bcf2ee",
        "trusted": true,
        "colab": {
          "base_uri": "https://localhost:8080/"
        },
        "id": "j-U2PUY4s5et",
        "outputId": "6a70d462-0e4a-43bb-ad27-f5bb0b2cd364"
      },
      "execution_count": 18,
      "outputs": [
        {
          "output_type": "stream",
          "name": "stdout",
          "text": [
            "(340, 15)\n",
            "(340,)\n",
            "(137, 15)\n",
            "(137,)\n"
          ]
        }
      ]
    },
    {
      "cell_type": "markdown",
      "source": [
        "The LSTM network expects the input data (X) to be provided with a specific array structure in the form of: [samples, time steps, features].\n",
        "\n",
        "Currently, this data is in the form: [samples, features] and we are framing the problem as one time step for each sample. We can transform the prepared train and test input data into the expected structure using numpy.reshape() as follows:"
      ],
      "metadata": {
        "_uuid": "19abce0c37dc0a4895726d35dab6bf43b1e51000",
        "id": "8_WLscCss5et"
      }
    },
    {
      "cell_type": "code",
      "source": [
        "x_train = np.reshape(x_train, (x_train.shape[0], 1, x_train.shape[1]))\n",
        "x_test = np.reshape(x_test, (x_test.shape[0], 1, x_test.shape[1]))"
      ],
      "metadata": {
        "_uuid": "4ad0f313531b89e9493c927437f27366f0ebfa72",
        "trusted": true,
        "id": "uI7AIA3_s5et"
      },
      "execution_count": 21,
      "outputs": []
    },
    {
      "cell_type": "code",
      "source": [
        "print(x_train.shape)\n",
        "print(y_train.shape)\n",
        "print(x_test.shape)\n",
        "print(y_test.shape)"
      ],
      "metadata": {
        "_uuid": "c1c04ae0f2d7c6d47eceed575723a987856cdbec",
        "trusted": true,
        "colab": {
          "base_uri": "https://localhost:8080/"
        },
        "id": "hNSQj6gHs5et",
        "outputId": "7ba773c2-e396-4fa2-9f0f-6554f4bfd883"
      },
      "execution_count": 22,
      "outputs": [
        {
          "output_type": "stream",
          "name": "stdout",
          "text": [
            "(340, 1, 15)\n",
            "(340,)\n",
            "(137, 1, 15)\n",
            "(137,)\n"
          ]
        }
      ]
    },
    {
      "cell_type": "markdown",
      "source": [
        "**LSTM**\n",
        "\n",
        "The Long Short-Term Memory network, or LSTM network, is a recurrent neural network that is trained using Backpropagation Through Time and overcomes the vanishing gradient problem.\n",
        "\n",
        "As such, it can be used to create large recurrent networks that in turn can be used to address difficult sequence problems in machine learning and achieve state-of-the-art results.\n",
        "\n",
        "Instead of neurons, LSTM networks have memory blocks that are connected through layers.\n",
        "\n",
        "A block has components that make it smarter than a classical neuron and a memory for recent sequences. A block contains gates that manage the block’s state and output. A block operates upon an input sequence and each gate within a block uses the sigmoid activation units to control whether they are triggered or not, making the change of state and addition of information flowing through the block conditional.\n",
        "\n",
        "There are three types of gates within a unit:\n",
        "\n",
        "* Forget Gate: conditionally decides what information to throw away from the block.\n",
        "* Input Gate: conditionally decides which values from the input to update the memory state.\n",
        "* Output Gate: conditionally decides what to output based on input and the memory of the block.\n",
        "\n",
        "Each unit is like a mini-state machine where the gates of the units have weights that are learned during the training procedure."
      ],
      "metadata": {
        "_uuid": "4cdfaa032f4b90bad561ccf68154edac41e9ea38",
        "id": "J7VRt316s5eu"
      }
    },
    {
      "cell_type": "markdown",
      "source": [
        ">The network has a visible layer with 1 input, a hidden layer with 20 LSTM blocks or neurons, and an output layer that makes a 15 value prediction. The default sigmoid activation function is used for the LSTM blocks. The network is trained for 20 epochs and a batch size of 1 is used."
      ],
      "metadata": {
        "_uuid": "9ee83c4cdfa51b58aff9fe28f43e552c1ecda9b0",
        "id": "kLaoYoh-s5eu"
      }
    },
    {
      "cell_type": "code",
      "source": [
        "# create and fit the LSTM network\n",
        "look_back = 15\n",
        "model = Sequential()\n",
        "model.add(LSTM(20, input_shape=(1, look_back)))\n",
        "model.add(Dense(1))\n",
        "model.compile(loss='mean_squared_error', optimizer='adam')\n",
        "model.fit(x_train, y_train, epochs=20, batch_size=1)"
      ],
      "metadata": {
        "_uuid": "1962317674b834ebd54be16699a08bb9639c7df6",
        "trusted": true,
        "colab": {
          "base_uri": "https://localhost:8080/"
        },
        "id": "mzakebOUs5eu",
        "outputId": "bcc19b1f-1db3-42a5-c0ba-971685608f36"
      },
      "execution_count": 23,
      "outputs": [
        {
          "output_type": "stream",
          "name": "stdout",
          "text": [
            "Epoch 1/20\n",
            "340/340 [==============================] - 3s 3ms/step - loss: 0.0088\n",
            "Epoch 2/20\n",
            "340/340 [==============================] - 1s 3ms/step - loss: 0.0015\n",
            "Epoch 3/20\n",
            "340/340 [==============================] - 1s 3ms/step - loss: 0.0013\n",
            "Epoch 4/20\n",
            "340/340 [==============================] - 1s 3ms/step - loss: 0.0013\n",
            "Epoch 5/20\n",
            "340/340 [==============================] - 1s 3ms/step - loss: 0.0011\n",
            "Epoch 6/20\n",
            "340/340 [==============================] - 1s 3ms/step - loss: 9.1874e-04\n",
            "Epoch 7/20\n",
            "340/340 [==============================] - 1s 3ms/step - loss: 8.7920e-04\n",
            "Epoch 8/20\n",
            "340/340 [==============================] - 1s 3ms/step - loss: 8.9249e-04\n",
            "Epoch 9/20\n",
            "340/340 [==============================] - 1s 3ms/step - loss: 8.7439e-04\n",
            "Epoch 10/20\n",
            "340/340 [==============================] - 1s 3ms/step - loss: 7.9452e-04\n",
            "Epoch 11/20\n",
            "340/340 [==============================] - 1s 3ms/step - loss: 7.3869e-04\n",
            "Epoch 12/20\n",
            "340/340 [==============================] - 1s 3ms/step - loss: 7.6152e-04\n",
            "Epoch 13/20\n",
            "340/340 [==============================] - 1s 3ms/step - loss: 7.1915e-04\n",
            "Epoch 14/20\n",
            "340/340 [==============================] - 1s 3ms/step - loss: 7.0225e-04\n",
            "Epoch 15/20\n",
            "340/340 [==============================] - 1s 3ms/step - loss: 7.0864e-04\n",
            "Epoch 16/20\n",
            "340/340 [==============================] - 1s 3ms/step - loss: 6.9731e-04\n",
            "Epoch 17/20\n",
            "340/340 [==============================] - 1s 3ms/step - loss: 6.9676e-04\n",
            "Epoch 18/20\n",
            "340/340 [==============================] - 1s 3ms/step - loss: 5.9242e-04\n",
            "Epoch 19/20\n",
            "340/340 [==============================] - 1s 3ms/step - loss: 6.6769e-04\n",
            "Epoch 20/20\n",
            "340/340 [==============================] - 1s 3ms/step - loss: 6.1019e-04\n"
          ]
        },
        {
          "output_type": "execute_result",
          "data": {
            "text/plain": [
              "<keras.callbacks.History at 0x7f3459134e50>"
            ]
          },
          "metadata": {},
          "execution_count": 23
        }
      ]
    },
    {
      "cell_type": "code",
      "source": [
        "trainPredict = model.predict(x_train)\n",
        "testPredict = model.predict(x_test)\n",
        "# invert predictions\n",
        "trainPredict = min_max_scaler.inverse_transform(trainPredict)\n",
        "trainY = min_max_scaler.inverse_transform([y_train])\n",
        "testPredict = min_max_scaler.inverse_transform(testPredict)\n",
        "testY = min_max_scaler.inverse_transform([y_test])\n",
        "# calculate root mean squared error\n",
        "trainScore = math.sqrt(mean_squared_error(trainY[0], trainPredict[:,0]))\n",
        "print('Train Score: %.2f RMSE' % (trainScore))\n",
        "testScore = math.sqrt(mean_squared_error(testY[0], testPredict[:,0]))\n",
        "print('Test Score: %.2f RMSE' % (testScore))"
      ],
      "metadata": {
        "_uuid": "444cd8a5403b8f7375578f217ea899746740cb8a",
        "trusted": true,
        "colab": {
          "base_uri": "https://localhost:8080/"
        },
        "id": "oOIPR15Gs5eu",
        "outputId": "d699d724-9e85-4cf7-d1f3-344789d12590"
      },
      "execution_count": 24,
      "outputs": [
        {
          "output_type": "stream",
          "name": "stdout",
          "text": [
            "11/11 [==============================] - 1s 3ms/step\n",
            "5/5 [==============================] - 0s 3ms/step\n",
            "Train Score: 0.73 RMSE\n",
            "Test Score: 1.37 RMSE\n"
          ]
        }
      ]
    },
    {
      "cell_type": "code",
      "source": [
        "# shift train predictions for plotting\n",
        "trainPredictPlot = np.empty_like(dataset)\n",
        "trainPredictPlot[:, :] = np.nan\n",
        "trainPredictPlot[look_back:len(trainPredict)+look_back, :] = trainPredict\n",
        "# shift test predictions for plotting\n",
        "testPredictPlot = np.empty_like(dataset)\n",
        "testPredictPlot[:, :] = np.nan\n",
        "testPredictPlot[len(trainPredict)+(look_back*2)+1:len(dataset)-1, :] = testPredict\n",
        "# plot baseline and predictions\n",
        "plt.plot(min_max_scaler.inverse_transform(dataset))\n",
        "plt.plot(trainPredictPlot)\n",
        "plt.plot(testPredictPlot)\n",
        "plt.show()"
      ],
      "metadata": {
        "_uuid": "9504013c6479db5f1e18ed091eafc1d84454338a",
        "trusted": true,
        "colab": {
          "base_uri": "https://localhost:8080/",
          "height": 265
        },
        "id": "oHyZdBlis5eu",
        "outputId": "7678b0ac-233a-4502-8fb6-f621b5a730ce"
      },
      "execution_count": 25,
      "outputs": [
        {
          "output_type": "display_data",
          "data": {
            "text/plain": [
              "<Figure size 432x288 with 1 Axes>"
            ],
            "image/png": "[encoded data removed]"
          },
          "metadata": {
            "needs_background": "light"
          }
        }
      ]
    },
    {
      "cell_type": "markdown",
      "source": [
        ">reference: https://machinelearningmastery.com/time-series-prediction-lstm-recurrent-neural-networks-python-keras/"
      ],
      "metadata": {
        "_uuid": "722793004b24b338a4827710f7023b78a8bdaa9a",
        "id": "riPSC77Fs5ev"
      }
    }
  ]
}